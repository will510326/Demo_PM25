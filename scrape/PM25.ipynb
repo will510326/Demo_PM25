{
 "cells": [
  {
   "cell_type": "code",
   "execution_count": 1,
   "metadata": {},
   "outputs": [],
   "source": [
    "import pandas as pd\n",
    "import ssl\n"
   ]
  },
  {
   "cell_type": "code",
   "execution_count": 2,
   "metadata": {},
   "outputs": [],
   "source": [
    "ssl._create_default_https_context = ssl._create_unverified_context\n",
    "url = 'https://sta.ci.taiwan.gov.tw/STA_AirQuality_v2/v1.0/Datastreams?$expand=Thing,Observations($orderby=phenomenonTime%20desc;$top=1)&$filter=name%20eq%20%27PM2.5%27%20and%20Thing/properties/authority%20eq%20%27%E8%A1%8C%E6%94%BF%E9%99%A2%E7%92%B0%E5%A2%83%E4%BF%9D%E8%AD%B7%E7%BD%B2%27%20and%20substringof(%27%E7%A9%BA%E6%B0%A3%E5%93%81%E8%B3%AA%E6%B8%AC%E7%AB%99%27,Thing/name)&$count=true'\n"
   ]
  },
  {
   "cell_type": "code",
   "execution_count": 3,
   "metadata": {},
   "outputs": [],
   "source": [
    "datas = pd.read_json(url)['value']"
   ]
  },
  {
   "cell_type": "code",
   "execution_count": 4,
   "metadata": {},
   "outputs": [
    {
     "data": {
      "text/plain": [
       "77"
      ]
     },
     "execution_count": 4,
     "metadata": {},
     "output_type": "execute_result"
    }
   ],
   "source": [
    "\n",
    "len(datas)"
   ]
  },
  {
   "cell_type": "code",
   "execution_count": 5,
   "metadata": {},
   "outputs": [
    {
     "data": {
      "text/plain": [
       "('基隆', 11)"
      ]
     },
     "execution_count": 5,
     "metadata": {},
     "output_type": "execute_result"
    }
   ],
   "source": [
    "datas[0]['Thing']['properties']['stationName'], datas[0]['@iot.id']\n"
   ]
  },
  {
   "cell_type": "code",
   "execution_count": 6,
   "metadata": {},
   "outputs": [
    {
     "name": "stdout",
     "output_type": "stream",
     "text": [
      "基隆市 基隆 10 2022-07-10 08:00:00\n",
      "新北市 汐止 13 2022-07-10 08:00:00\n",
      "新北市 萬里 10 2022-07-10 08:00:00\n",
      "新北市 新店 10 2022-07-10 08:00:00\n",
      "新北市 土城 4 2022-07-10 08:00:00\n",
      "新北市 板橋 9 2022-07-10 08:00:00\n",
      "新北市 新莊 3 2022-07-10 08:00:00\n",
      "新北市 菜寮 7 2022-07-10 08:00:00\n",
      "新北市 林口 5 2022-07-10 08:00:00\n",
      "新北市 淡水 0 2022-07-10 08:00:00\n",
      "臺北市 士林 5 2022-07-10 08:00:00\n",
      "臺北市 中山 6 2022-07-10 08:00:00\n",
      "臺北市 萬華 7 2022-07-10 08:00:00\n",
      "臺北市 古亭 5 2022-07-10 08:00:00\n",
      "臺北市 松山 11 2022-07-10 08:00:00\n",
      "臺北市 大同 8 2022-07-10 08:00:00\n",
      "桃園市 桃園 8 2022-07-10 08:00:00\n",
      "桃園市 大園 4 2022-07-10 08:00:00\n",
      "桃園市 觀音 5 2022-07-10 08:00:00\n",
      "桃園市 平鎮 4 2022-07-10 08:00:00\n",
      "桃園市 龍潭 4 2022-07-10 08:00:00\n",
      "新竹縣 湖口 0 2022-07-10 08:00:00\n",
      "新竹縣 竹東 4 2022-07-10 08:00:00\n",
      "新竹市 新竹 2 2022-07-10 08:00:00\n",
      "苗栗縣 頭份 0 2022-07-10 08:00:00\n",
      "苗栗縣 苗栗 5 2022-07-10 08:00:00\n",
      "苗栗縣 三義 6 2022-07-10 08:00:00\n",
      "臺中市 豐原 9 2022-07-10 08:00:00\n",
      "臺中市 沙鹿 9 2022-07-10 08:00:00\n",
      "臺中市 大里 8 2022-07-10 08:00:00\n",
      "臺中市 忠明 9 2022-07-10 08:00:00\n",
      "臺中市 西屯 3 2022-07-10 08:00:00\n",
      "彰化縣 彰化 0 2022-07-10 08:00:00\n",
      "彰化縣 線西 5 2022-07-10 08:00:00\n",
      "彰化縣 二林 6 2022-07-10 08:00:00\n",
      "南投縣 南投 12 2022-07-10 08:00:00\n",
      "雲林縣 斗六 7 2022-07-10 08:00:00\n",
      "雲林縣 崙背 1 2022-07-10 08:00:00\n",
      "嘉義縣 新港 6 2022-07-10 08:00:00\n",
      "嘉義縣 朴子 0 2022-07-10 08:00:00\n",
      "雲林縣 臺西 0 2022-07-10 08:00:00\n",
      "嘉義市 嘉義 4 2022-07-10 08:00:00\n",
      "臺南市 新營 4 2022-07-10 08:00:00\n",
      "臺南市 善化 2 2022-07-10 08:00:00\n",
      "臺南市 安南 0 2022-07-10 08:00:00\n",
      "臺南市 臺南 3 2022-07-10 08:00:00\n",
      "高雄市 美濃 5 2022-07-10 08:00:00\n",
      "高雄市 橋頭 0 2022-07-10 08:00:00\n",
      "高雄市 仁武 1 2022-07-10 08:00:00\n",
      "高雄市 鳳山 0 2022-07-10 08:00:00\n",
      "高雄市 大寮 3 2022-07-10 08:00:00\n",
      "高雄市 林園 0 2022-07-10 08:00:00\n",
      "高雄市 楠梓 0 2022-07-10 08:00:00\n",
      "高雄市 左營 6 2022-07-10 08:00:00\n",
      "高雄市 前金 0 2022-07-10 08:00:00\n",
      "高雄市 前鎮 0 2022-07-10 08:00:00\n",
      "高雄市 小港 7 2022-07-10 08:00:00\n",
      "屏東縣 屏東 0 2022-07-10 08:00:00\n",
      "屏東縣 潮州 2 2022-07-10 08:00:00\n",
      "屏東縣 恆春 0 2022-07-10 08:00:00\n",
      "臺東縣 臺東 3 2022-07-10 08:00:00\n",
      "花蓮縣 花蓮 3 2022-07-10 08:00:00\n",
      "臺北市 陽明 8 2022-07-10 08:00:00\n",
      "宜蘭縣 宜蘭 1 2022-07-10 08:00:00\n",
      "宜蘭縣 冬山 4 2022-07-10 08:00:00\n",
      "新北市 三重 6 2022-07-10 08:00:00\n",
      "桃園市 中壢 5 2022-07-10 08:00:00\n",
      "南投縣 竹山 6 2022-07-10 08:00:00\n",
      "新北市 永和 11 2022-07-10 08:00:00\n",
      "高雄市 復興 1 2022-07-10 08:00:00\n",
      "南投縣 埔里 7 2022-07-10 08:00:00\n",
      "新北市 富貴角 0 2022-07-10 08:00:00\n",
      "臺東縣 關山 0 2022-07-10 08:00:00\n",
      "金門縣 金門 0 2022-07-10 08:00:00\n",
      "連江縣 馬祖 10 2022-07-10 08:00:00\n",
      "澎湖縣 馬公 2 2022-07-10 08:00:00\n",
      "雲林縣 麥寮 0 2022-07-10 08:00:00\n"
     ]
    }
   ],
   "source": [
    "values = []\n",
    "for data in datas:\n",
    "    try:\n",
    "        city, stationName = data['Thing']['properties']['city'],\\\n",
    "            data['Thing']['properties']['stationName']\n",
    "\n",
    "        result, resultTime = data['Observations'][0]['result'], data['Observations'][0]['resultTime']\n",
    "        resultTime = pd.to_datetime(resultTime).strftime('%Y-%m-%d %H:%M:%S')\n",
    "        print(city, stationName, result, resultTime)\n",
    "        values.append([city, stationName, result, resultTime])\n",
    "    except Exception as e:\n",
    "        print(e)\n"
   ]
  },
  {
   "cell_type": "code",
   "execution_count": 7,
   "metadata": {},
   "outputs": [
    {
     "data": {
      "text/plain": [
       "{'description': '細懸浮微粒 PM2.5',\n",
       " '@iot.id': 11,\n",
       " 'name': 'PM2.5',\n",
       " 'observationType': 'http://www.opengis.net/def/observationType/OGC-OM/2.0/OM_Measurement',\n",
       " 'observedArea': {'type': 'Point', 'coordinates': [121.7601, 25.1292]},\n",
       " 'phenomenonTime': '2022-07-09T05:00:00.000Z/2022-07-10T08:00:00.000Z',\n",
       " 'resultTime': '2022-07-09T05:00:00.000Z/2022-07-10T08:00:00.000Z',\n",
       " '@iot.selfLink': 'https://sta.ci.taiwan.gov.tw/STA_AirQuality_v2/v1.0/Datastreams(11)',\n",
       " 'unitOfMeasurement': {'name': 'microgram per cubic meter',\n",
       "  'symbol': 'μg/m3',\n",
       "  'definition': 'https://acronyms.thefreedictionary.com/ug%2Fm3'},\n",
       " 'Thing': {'description': '空氣品質測站-基隆',\n",
       "  '@iot.id': 1,\n",
       "  'name': '空氣品質測站-基隆',\n",
       "  'properties': {'city': '基隆市',\n",
       "   'areaName': '北部空品區',\n",
       "   'township': '信義區',\n",
       "   'authority': '行政院環境保護署',\n",
       "   'stationID': 'EPA001',\n",
       "   'englishName': 'Keelung',\n",
       "   'stationName': '基隆',\n",
       "   'stationType': '一般測站'},\n",
       "  '@iot.selfLink': 'https://sta.ci.taiwan.gov.tw/STA_AirQuality_v2/v1.0/Things(1)'},\n",
       " 'Observations@iot.count': 28,\n",
       " 'Observations@iot.nextLink': 'https://sta.ci.taiwan.gov.tw/STA_AirQuality_v2/v1.0/Datastreams(11)/Observations?$top=1&$skip=1&$orderby=phenomenonTime+desc',\n",
       " 'Observations': [{'@iot.id': 90578038,\n",
       "   'phenomenonTime': '2022-07-10T08:00:00.000Z',\n",
       "   'result': 10,\n",
       "   'resultTime': '2022-07-10T08:00:00.000Z',\n",
       "   '@iot.selfLink': 'https://sta.ci.taiwan.gov.tw/STA_AirQuality_v2/v1.0/Observations(90578038)'}],\n",
       " 'Observations@iot.navigationLink': 'https://sta.ci.taiwan.gov.tw/STA_AirQuality_v2/v1.0/Datastreams(11)/Observations',\n",
       " 'ObservedProperty@iot.navigationLink': 'https://sta.ci.taiwan.gov.tw/STA_AirQuality_v2/v1.0/Datastreams(11)/ObservedProperty',\n",
       " 'Thing@iot.navigationLink': 'https://sta.ci.taiwan.gov.tw/STA_AirQuality_v2/v1.0/Datastreams(11)/Thing',\n",
       " 'Sensor@iot.navigationLink': 'https://sta.ci.taiwan.gov.tw/STA_AirQuality_v2/v1.0/Datastreams(11)/Sensor'}"
      ]
     },
     "execution_count": 7,
     "metadata": {},
     "output_type": "execute_result"
    }
   ],
   "source": [
    "datas[0]"
   ]
  },
  {
   "cell_type": "code",
   "execution_count": 9,
   "metadata": {},
   "outputs": [],
   "source": [
    "df = pd.DataFrame(values, columns=['city', 'stationName', 'result', 'resultTime'])"
   ]
  },
  {
   "cell_type": "markdown",
   "metadata": {},
   "source": [
    "### 取得六都平均值"
   ]
  },
  {
   "cell_type": "code",
   "execution_count": 10,
   "metadata": {},
   "outputs": [
    {
     "data": {
      "text/plain": [
       "{'南投縣',\n",
       " '嘉義市',\n",
       " '嘉義縣',\n",
       " '基隆市',\n",
       " '宜蘭縣',\n",
       " '屏東縣',\n",
       " '彰化縣',\n",
       " '新北市',\n",
       " '新竹市',\n",
       " '新竹縣',\n",
       " '桃園市',\n",
       " '澎湖縣',\n",
       " '臺中市',\n",
       " '臺北市',\n",
       " '臺南市',\n",
       " '臺東縣',\n",
       " '花蓮縣',\n",
       " '苗栗縣',\n",
       " '連江縣',\n",
       " '金門縣',\n",
       " '雲林縣',\n",
       " '高雄市'}"
      ]
     },
     "execution_count": 10,
     "metadata": {},
     "output_type": "execute_result"
    }
   ],
   "source": [
    "set(df['city'])"
   ]
  },
  {
   "cell_type": "code",
   "execution_count": 11,
   "metadata": {},
   "outputs": [
    {
     "data": {
      "text/plain": [
       "['臺北市', '新北市', '桃園市', '臺中市', '臺南市', '高雄市']"
      ]
     },
     "execution_count": 11,
     "metadata": {},
     "output_type": "execute_result"
    }
   ],
   "source": [
    "six_city = ['臺北市', '新北市', '桃園市', '臺中市', '臺南市', '高雄市']\n",
    "six_city\n"
   ]
  },
  {
   "cell_type": "code",
   "execution_count": 15,
   "metadata": {},
   "outputs": [
    {
     "data": {
      "text/plain": [
       "7.14"
      ]
     },
     "execution_count": 15,
     "metadata": {},
     "output_type": "execute_result"
    }
   ],
   "source": [
    "round(df.groupby('city').get_group(six_city[0])['result'].mean(),2)"
   ]
  },
  {
   "cell_type": "code",
   "execution_count": 17,
   "metadata": {},
   "outputs": [
    {
     "name": "stdout",
     "output_type": "stream",
     "text": [
      "臺北市 7.14\n",
      "新北市 6.5\n",
      "桃園市 5.0\n",
      "臺中市 7.6\n",
      "臺南市 2.25\n",
      "高雄市 1.92\n"
     ]
    }
   ],
   "source": [
    "for city in six_city:\n",
    "    print(city, round(df.groupby('city').get_group(city)['result'].mean(), 2))\n"
   ]
  },
  {
   "cell_type": "code",
   "execution_count": null,
   "metadata": {},
   "outputs": [],
   "source": []
  }
 ],
 "metadata": {
  "kernelspec": {
   "display_name": "Python 3.9.7 ('base')",
   "language": "python",
   "name": "python3"
  },
  "language_info": {
   "codemirror_mode": {
    "name": "ipython",
    "version": 3
   },
   "file_extension": ".py",
   "mimetype": "text/x-python",
   "name": "python",
   "nbconvert_exporter": "python",
   "pygments_lexer": "ipython3",
   "version": "3.9.7"
  },
  "orig_nbformat": 4,
  "vscode": {
   "interpreter": {
    "hash": "40d3a090f54c6569ab1632332b64b2c03c39dcf918b08424e98f38b5ae0af88f"
   }
  }
 },
 "nbformat": 4,
 "nbformat_minor": 2
}
