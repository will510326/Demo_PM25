{
 "cells": [
  {
   "cell_type": "code",
   "execution_count": 5,
   "metadata": {},
   "outputs": [],
   "source": [
    "import pandas as pd\n",
    "import ssl\n"
   ]
  },
  {
   "cell_type": "code",
   "execution_count": 6,
   "metadata": {},
   "outputs": [],
   "source": [
    "ssl._create_default_https_context = ssl._create_unverified_context\n",
    "url = 'https://sta.ci.taiwan.gov.tw/STA_AirQuality_v2/v1.0/Datastreams?$expand=Thing,Observations($orderby=phenomenonTime%20desc;$top=1)&$filter=name%20eq%20%27PM2.5%27%20and%20Thing/properties/authority%20eq%20%27%E8%A1%8C%E6%94%BF%E9%99%A2%E7%92%B0%E5%A2%83%E4%BF%9D%E8%AD%B7%E7%BD%B2%27%20and%20substringof(%27%E7%A9%BA%E6%B0%A3%E5%93%81%E8%B3%AA%E6%B8%AC%E7%AB%99%27,Thing/name)&$count=true'\n"
   ]
  },
  {
   "cell_type": "code",
   "execution_count": 9,
   "metadata": {},
   "outputs": [],
   "source": [
    "datas = pd.read_json(url)['value']"
   ]
  },
  {
   "cell_type": "code",
   "execution_count": 10,
   "metadata": {},
   "outputs": [
    {
     "data": {
      "text/plain": [
       "77"
      ]
     },
     "execution_count": 10,
     "metadata": {},
     "output_type": "execute_result"
    }
   ],
   "source": [
    "\n",
    "len(datas)"
   ]
  },
  {
   "cell_type": "code",
   "execution_count": 22,
   "metadata": {},
   "outputs": [
    {
     "data": {
      "text/plain": [
       "('基隆', 11)"
      ]
     },
     "execution_count": 22,
     "metadata": {},
     "output_type": "execute_result"
    }
   ],
   "source": [
    "datas[0]['Thing']['properties']['stationName'], datas[0]['@iot.id']\n"
   ]
  },
  {
   "cell_type": "code",
   "execution_count": 25,
   "metadata": {},
   "outputs": [
    {
     "name": "stdout",
     "output_type": "stream",
     "text": [
      "基隆市 基隆 8 2022-06-25 06:00:00\n",
      "新北市 汐止 5 2022-06-25 03:00:00\n",
      "新北市 萬里 6 2022-06-25 06:00:00\n",
      "新北市 新店 7 2022-06-25 06:00:00\n",
      "新北市 土城 4 2022-06-25 06:00:00\n",
      "新北市 板橋 9 2022-06-25 06:00:00\n",
      "新北市 新莊 12 2022-06-25 06:00:00\n",
      "新北市 菜寮 9 2022-06-25 06:00:00\n",
      "新北市 林口 5 2022-06-25 06:00:00\n",
      "新北市 淡水 5 2022-06-25 06:00:00\n",
      "臺北市 士林 10 2022-06-25 06:00:00\n",
      "臺北市 中山 7 2022-06-25 06:00:00\n",
      "臺北市 萬華 7 2022-06-25 06:00:00\n",
      "臺北市 古亭 8 2022-06-25 06:00:00\n",
      "臺北市 松山 10 2022-06-25 06:00:00\n",
      "臺北市 大同 10 2022-06-25 06:00:00\n",
      "桃園市 桃園 10 2022-06-25 06:00:00\n",
      "桃園市 大園 9 2022-06-25 06:00:00\n",
      "桃園市 觀音 11 2022-06-25 06:00:00\n",
      "桃園市 平鎮 6 2022-06-25 06:00:00\n",
      "桃園市 龍潭 4 2022-06-25 06:00:00\n",
      "新竹縣 湖口 10 2022-06-25 06:00:00\n",
      "新竹縣 竹東 5 2022-06-25 05:00:00\n",
      "新竹市 新竹 6 2022-06-25 06:00:00\n",
      "苗栗縣 頭份 3 2022-06-25 06:00:00\n",
      "苗栗縣 苗栗 8 2022-06-24 22:00:00\n",
      "苗栗縣 三義 8 2022-06-25 06:00:00\n",
      "臺中市 豐原 6 2022-06-25 06:00:00\n",
      "臺中市 沙鹿 6 2022-06-25 06:00:00\n",
      "臺中市 大里 6 2022-06-25 06:00:00\n",
      "臺中市 忠明 4 2022-06-25 01:00:00\n",
      "臺中市 西屯 5 2022-06-25 06:00:00\n",
      "彰化縣 彰化 7 2022-06-25 06:00:00\n",
      "彰化縣 線西 6 2022-06-25 06:00:00\n",
      "彰化縣 二林 6 2022-06-25 06:00:00\n",
      "南投縣 南投 4 2022-06-25 06:00:00\n",
      "雲林縣 斗六 10 2022-06-25 06:00:00\n",
      "雲林縣 崙背 3 2022-06-25 06:00:00\n",
      "嘉義縣 新港 3 2022-06-25 06:00:00\n",
      "嘉義縣 朴子 0 2022-06-25 06:00:00\n",
      "雲林縣 臺西 3 2022-06-25 06:00:00\n",
      "嘉義市 嘉義 0 2022-06-25 06:00:00\n",
      "臺南市 新營 0 2022-06-25 06:00:00\n",
      "臺南市 善化 0 2022-06-25 06:00:00\n",
      "臺南市 安南 1 2022-06-25 06:00:00\n",
      "臺南市 臺南 2 2022-06-25 06:00:00\n",
      "高雄市 美濃 4 2022-06-25 06:00:00\n",
      "高雄市 橋頭 0 2022-06-25 06:00:00\n",
      "高雄市 仁武 0 2022-06-25 06:00:00\n",
      "高雄市 鳳山 0 2022-06-25 06:00:00\n",
      "高雄市 大寮 20 2022-06-25 06:00:00\n",
      "高雄市 林園 0 2022-06-25 06:00:00\n",
      "高雄市 楠梓 0 2022-06-25 06:00:00\n",
      "高雄市 左營 4 2022-06-25 06:00:00\n",
      "高雄市 前金 0 2022-06-25 06:00:00\n",
      "高雄市 前鎮 2 2022-06-25 06:00:00\n",
      "高雄市 小港 0 2022-06-25 06:00:00\n",
      "屏東縣 屏東 2 2022-06-25 06:00:00\n",
      "屏東縣 潮州 2 2022-06-25 06:00:00\n",
      "屏東縣 恆春 1 2022-06-25 06:00:00\n",
      "臺東縣 臺東 3 2022-06-25 06:00:00\n",
      "花蓮縣 花蓮 2 2022-06-25 06:00:00\n",
      "臺北市 陽明 9 2022-06-25 06:00:00\n",
      "宜蘭縣 宜蘭 0 2022-06-25 06:00:00\n",
      "宜蘭縣 冬山 2 2022-06-25 06:00:00\n",
      "新北市 三重 9 2022-06-25 06:00:00\n",
      "桃園市 中壢 8 2022-06-25 06:00:00\n",
      "南投縣 竹山 0 2022-06-25 06:00:00\n",
      "新北市 永和 12 2022-06-25 06:00:00\n",
      "高雄市 復興 0 2022-06-25 06:00:00\n",
      "南投縣 埔里 1 2022-06-25 06:00:00\n",
      "新北市 富貴角 5 2022-06-25 06:00:00\n",
      "臺東縣 關山 0 2022-06-25 06:00:00\n",
      "金門縣 金門 1 2022-06-25 06:00:00\n",
      "連江縣 馬祖 4 2022-06-25 06:00:00\n",
      "澎湖縣 馬公 6 2022-06-25 06:00:00\n",
      "雲林縣 麥寮 1 2022-06-25 06:00:00\n"
     ]
    }
   ],
   "source": [
    "values = []\n",
    "for data in datas:\n",
    "    try:\n",
    "        city, stationName = data['Thing']['properties']['city'],\\\n",
    "            data['Thing']['properties']['stationName']\n",
    "\n",
    "        result, resultTime = data['Observations'][0]['result'], data['Observations'][0]['resultTime']\n",
    "        resultTime = pd.to_datetime(resultTime).strftime('%Y-%m-%d %H:%M:%S')\n",
    "        print(city, stationName, result, resultTime)\n",
    "        values.append([city, stationName, result, resultTime])\n",
    "    except Exception as e:\n",
    "        print(e)\n"
   ]
  },
  {
   "cell_type": "code",
   "execution_count": 27,
   "metadata": {},
   "outputs": [
    {
     "data": {
      "text/plain": [
       "{'description': '細懸浮微粒 PM2.5',\n",
       " '@iot.id': 11,\n",
       " 'name': 'PM2.5',\n",
       " 'observationType': 'http://www.opengis.net/def/observationType/OGC-OM/2.0/OM_Measurement',\n",
       " 'observedArea': {'type': 'Point', 'coordinates': [121.7601, 25.1292]},\n",
       " 'phenomenonTime': '2022-06-24T05:00:00.000Z/2022-06-25T06:00:00.000Z',\n",
       " 'resultTime': '2022-06-24T05:00:00.000Z/2022-06-25T06:00:00.000Z',\n",
       " '@iot.selfLink': 'https://sta.ci.taiwan.gov.tw/STA_AirQuality_v2/v1.0/Datastreams(11)',\n",
       " 'unitOfMeasurement': {'name': 'microgram per cubic meter',\n",
       "  'symbol': 'μg/m3',\n",
       "  'definition': 'https://acronyms.thefreedictionary.com/ug%2Fm3'},\n",
       " 'Thing': {'description': '空氣品質測站-基隆',\n",
       "  '@iot.id': 1,\n",
       "  'name': '空氣品質測站-基隆',\n",
       "  'properties': {'city': '基隆市',\n",
       "   'areaName': '北部空品區',\n",
       "   'township': '信義區',\n",
       "   'authority': '行政院環境保護署',\n",
       "   'stationID': 'EPA001',\n",
       "   'englishName': 'Keelung',\n",
       "   'stationName': '基隆',\n",
       "   'stationType': '一般測站'},\n",
       "  '@iot.selfLink': 'https://sta.ci.taiwan.gov.tw/STA_AirQuality_v2/v1.0/Things(1)'},\n",
       " 'Observations@iot.count': 26,\n",
       " 'Observations@iot.nextLink': 'https://sta.ci.taiwan.gov.tw/STA_AirQuality_v2/v1.0/Datastreams(11)/Observations?$top=1&$skip=1&$orderby=phenomenonTime+desc',\n",
       " 'Observations': [{'@iot.id': 84988825,\n",
       "   'phenomenonTime': '2022-06-25T06:00:00.000Z',\n",
       "   'result': 8,\n",
       "   'resultTime': '2022-06-25T06:00:00.000Z',\n",
       "   '@iot.selfLink': 'https://sta.ci.taiwan.gov.tw/STA_AirQuality_v2/v1.0/Observations(84988825)'}],\n",
       " 'Observations@iot.navigationLink': 'https://sta.ci.taiwan.gov.tw/STA_AirQuality_v2/v1.0/Datastreams(11)/Observations',\n",
       " 'ObservedProperty@iot.navigationLink': 'https://sta.ci.taiwan.gov.tw/STA_AirQuality_v2/v1.0/Datastreams(11)/ObservedProperty',\n",
       " 'Thing@iot.navigationLink': 'https://sta.ci.taiwan.gov.tw/STA_AirQuality_v2/v1.0/Datastreams(11)/Thing',\n",
       " 'Sensor@iot.navigationLink': 'https://sta.ci.taiwan.gov.tw/STA_AirQuality_v2/v1.0/Datastreams(11)/Sensor'}"
      ]
     },
     "execution_count": 27,
     "metadata": {},
     "output_type": "execute_result"
    }
   ],
   "source": [
    "datas[0]"
   ]
  },
  {
   "cell_type": "code",
   "execution_count": 28,
   "metadata": {},
   "outputs": [
    {
     "data": {
      "text/html": [
       "<div>\n",
       "<style scoped>\n",
       "    .dataframe tbody tr th:only-of-type {\n",
       "        vertical-align: middle;\n",
       "    }\n",
       "\n",
       "    .dataframe tbody tr th {\n",
       "        vertical-align: top;\n",
       "    }\n",
       "\n",
       "    .dataframe thead th {\n",
       "        text-align: right;\n",
       "    }\n",
       "</style>\n",
       "<table border=\"1\" class=\"dataframe\">\n",
       "  <thead>\n",
       "    <tr style=\"text-align: right;\">\n",
       "      <th></th>\n",
       "      <th>city</th>\n",
       "      <th>stationName</th>\n",
       "      <th>result</th>\n",
       "      <th>resultTime</th>\n",
       "    </tr>\n",
       "  </thead>\n",
       "  <tbody>\n",
       "    <tr>\n",
       "      <th>0</th>\n",
       "      <td>基隆市</td>\n",
       "      <td>基隆</td>\n",
       "      <td>8</td>\n",
       "      <td>2022-06-25 06:00:00</td>\n",
       "    </tr>\n",
       "    <tr>\n",
       "      <th>1</th>\n",
       "      <td>新北市</td>\n",
       "      <td>汐止</td>\n",
       "      <td>5</td>\n",
       "      <td>2022-06-25 03:00:00</td>\n",
       "    </tr>\n",
       "    <tr>\n",
       "      <th>2</th>\n",
       "      <td>新北市</td>\n",
       "      <td>萬里</td>\n",
       "      <td>6</td>\n",
       "      <td>2022-06-25 06:00:00</td>\n",
       "    </tr>\n",
       "    <tr>\n",
       "      <th>3</th>\n",
       "      <td>新北市</td>\n",
       "      <td>新店</td>\n",
       "      <td>7</td>\n",
       "      <td>2022-06-25 06:00:00</td>\n",
       "    </tr>\n",
       "    <tr>\n",
       "      <th>4</th>\n",
       "      <td>新北市</td>\n",
       "      <td>土城</td>\n",
       "      <td>4</td>\n",
       "      <td>2022-06-25 06:00:00</td>\n",
       "    </tr>\n",
       "    <tr>\n",
       "      <th>...</th>\n",
       "      <td>...</td>\n",
       "      <td>...</td>\n",
       "      <td>...</td>\n",
       "      <td>...</td>\n",
       "    </tr>\n",
       "    <tr>\n",
       "      <th>72</th>\n",
       "      <td>臺東縣</td>\n",
       "      <td>關山</td>\n",
       "      <td>0</td>\n",
       "      <td>2022-06-25 06:00:00</td>\n",
       "    </tr>\n",
       "    <tr>\n",
       "      <th>73</th>\n",
       "      <td>金門縣</td>\n",
       "      <td>金門</td>\n",
       "      <td>1</td>\n",
       "      <td>2022-06-25 06:00:00</td>\n",
       "    </tr>\n",
       "    <tr>\n",
       "      <th>74</th>\n",
       "      <td>連江縣</td>\n",
       "      <td>馬祖</td>\n",
       "      <td>4</td>\n",
       "      <td>2022-06-25 06:00:00</td>\n",
       "    </tr>\n",
       "    <tr>\n",
       "      <th>75</th>\n",
       "      <td>澎湖縣</td>\n",
       "      <td>馬公</td>\n",
       "      <td>6</td>\n",
       "      <td>2022-06-25 06:00:00</td>\n",
       "    </tr>\n",
       "    <tr>\n",
       "      <th>76</th>\n",
       "      <td>雲林縣</td>\n",
       "      <td>麥寮</td>\n",
       "      <td>1</td>\n",
       "      <td>2022-06-25 06:00:00</td>\n",
       "    </tr>\n",
       "  </tbody>\n",
       "</table>\n",
       "<p>77 rows × 4 columns</p>\n",
       "</div>"
      ],
      "text/plain": [
       "   city stationName  result           resultTime\n",
       "0   基隆市          基隆       8  2022-06-25 06:00:00\n",
       "1   新北市          汐止       5  2022-06-25 03:00:00\n",
       "2   新北市          萬里       6  2022-06-25 06:00:00\n",
       "3   新北市          新店       7  2022-06-25 06:00:00\n",
       "4   新北市          土城       4  2022-06-25 06:00:00\n",
       "..  ...         ...     ...                  ...\n",
       "72  臺東縣          關山       0  2022-06-25 06:00:00\n",
       "73  金門縣          金門       1  2022-06-25 06:00:00\n",
       "74  連江縣          馬祖       4  2022-06-25 06:00:00\n",
       "75  澎湖縣          馬公       6  2022-06-25 06:00:00\n",
       "76  雲林縣          麥寮       1  2022-06-25 06:00:00\n",
       "\n",
       "[77 rows x 4 columns]"
      ]
     },
     "execution_count": 28,
     "metadata": {},
     "output_type": "execute_result"
    }
   ],
   "source": [
    "pd.DataFrame(values, columns=['city', 'stationName', 'result', 'resultTime'])"
   ]
  },
  {
   "cell_type": "code",
   "execution_count": null,
   "metadata": {},
   "outputs": [],
   "source": []
  }
 ],
 "metadata": {
  "kernelspec": {
   "display_name": "Python 3.9.7 ('base')",
   "language": "python",
   "name": "python3"
  },
  "language_info": {
   "codemirror_mode": {
    "name": "ipython",
    "version": 3
   },
   "file_extension": ".py",
   "mimetype": "text/x-python",
   "name": "python",
   "nbconvert_exporter": "python",
   "pygments_lexer": "ipython3",
   "version": "3.9.7"
  },
  "orig_nbformat": 4,
  "vscode": {
   "interpreter": {
    "hash": "40d3a090f54c6569ab1632332b64b2c03c39dcf918b08424e98f38b5ae0af88f"
   }
  }
 },
 "nbformat": 4,
 "nbformat_minor": 2
}
